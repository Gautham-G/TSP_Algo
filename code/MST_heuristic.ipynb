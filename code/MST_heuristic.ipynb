{
 "cells": [
  {
   "cell_type": "code",
   "execution_count": 1,
   "metadata": {
    "id": "HHfR-pjUAo4e"
   },
   "outputs": [],
   "source": [
    "import networkx as nx\n",
    "import numpy as np\n",
    "import pandas as pd"
   ]
  },
  {
   "cell_type": "code",
   "execution_count": 20,
   "metadata": {
    "colab": {
     "base_uri": "https://localhost:8080/"
    },
    "id": "STf_KGPfaC7E",
    "outputId": "e9a1fae3-19b9-45dd-f3d8-3279796ba453"
   },
   "outputs": [
    {
     "name": "stdout",
     "output_type": "stream",
     "text": [
      "Archive:  DATA.zip\n",
      "replace DATA/Roanoke.tsp? [y]es, [n]o, [A]ll, [N]one, [r]ename: "
     ]
    }
   ],
   "source": [
    "!unzip DATA.zip"
   ]
  },
  {
   "cell_type": "code",
   "execution_count": 108,
   "metadata": {
    "id": "Q6mdEFV9iPNv"
   },
   "outputs": [],
   "source": [
    "instance='Atlanta'\n",
    "n=int(open('../data/'+instance+'.tsp').readlines()[2][len('DIMENSION: '):])\n",
    "input=np.loadtxt(\"../data/\"+instance+\".tsp\",skiprows=5,max_rows=n)"
   ]
  },
  {
   "cell_type": "code",
   "execution_count": 109,
   "metadata": {
    "id": "88_PQkMi1Ju8"
   },
   "outputs": [],
   "source": [
    "G = nx.from_numpy_matrix(distance_matrix(input[:,1:],input[:,1:]))\n",
    "T=nx.minimum_spanning_tree(G)\n",
    "eulerian_cycle = list(nx.eulerian_circuit(T.to_directed(),source=0))"
   ]
  },
  {
   "cell_type": "code",
   "execution_count": 112,
   "metadata": {
    "id": "dL0m91_sBPkc"
   },
   "outputs": [],
   "source": [
    "visited_nodes=[]\n",
    "tour_nodes=[]\n",
    "for edge in eulerian_cycle:\n",
    "  if(edge[0] not in visited_nodes):\n",
    "    tour_nodes.append(edge[0])\n",
    "  visited_nodes.append(edge[0])\n",
    "tour_nodes.append(tour_nodes[0])"
   ]
  },
  {
   "cell_type": "code",
   "execution_count": 113,
   "metadata": {
    "colab": {
     "base_uri": "https://localhost:8080/"
    },
    "id": "tYg_27c4Cji5",
    "outputId": "8cd4c481-54b6-4850-b420-9bab31d66d98"
   },
   "outputs": [
    {
     "name": "stdout",
     "output_type": "stream",
     "text": [
      "[0, 6, 1, 2, 16, 12, 8, 11, 10, 19, 5, 4, 17, 13, 9, 15, 3, 7, 14, 18, 0]\n"
     ]
    }
   ],
   "source": [
    "print(tour_nodes)"
   ]
  },
  {
   "cell_type": "code",
   "execution_count": 114,
   "metadata": {
    "colab": {
     "base_uri": "https://localhost:8080/"
    },
    "id": "zWssKt43Ensm",
    "outputId": "3ae42213-dbbd-4dba-998b-ecdee194fa0a"
   },
   "outputs": [
    {
     "data": {
      "text/plain": [
       "2415131.541776732"
      ]
     },
     "execution_count": 114,
     "metadata": {},
     "output_type": "execute_result"
    }
   ],
   "source": [
    "nx.path_weight(G,tour_nodes,'weight')"
   ]
  },
  {
   "cell_type": "code",
   "execution_count": 115,
   "metadata": {
    "colab": {
     "base_uri": "https://localhost:8080/",
     "height": 452
    },
    "id": "yZ7NS7mEFP9H",
    "outputId": "464cb44a-0330-44ea-b059-60f4e5dcf204"
   },
   "outputs": [
    {
     "data": {
      "text/html": [
       "<div>\n",
       "<style scoped>\n",
       "    .dataframe tbody tr th:only-of-type {\n",
       "        vertical-align: middle;\n",
       "    }\n",
       "\n",
       "    .dataframe tbody tr th {\n",
       "        vertical-align: top;\n",
       "    }\n",
       "\n",
       "    .dataframe thead th {\n",
       "        text-align: right;\n",
       "    }\n",
       "</style>\n",
       "<table border=\"1\" class=\"dataframe\">\n",
       "  <thead>\n",
       "    <tr style=\"text-align: right;\">\n",
       "      <th></th>\n",
       "      <th>Instance</th>\n",
       "      <th>Value</th>\n",
       "    </tr>\n",
       "  </thead>\n",
       "  <tbody>\n",
       "    <tr>\n",
       "      <th>0</th>\n",
       "      <td>Atlanta</td>\n",
       "      <td>2003763</td>\n",
       "    </tr>\n",
       "    <tr>\n",
       "      <th>1</th>\n",
       "      <td>Berlin</td>\n",
       "      <td>7542</td>\n",
       "    </tr>\n",
       "    <tr>\n",
       "      <th>2</th>\n",
       "      <td>Boston</td>\n",
       "      <td>893536</td>\n",
       "    </tr>\n",
       "    <tr>\n",
       "      <th>3</th>\n",
       "      <td>Champaign</td>\n",
       "      <td>52643</td>\n",
       "    </tr>\n",
       "    <tr>\n",
       "      <th>4</th>\n",
       "      <td>Cincinnati</td>\n",
       "      <td>277952</td>\n",
       "    </tr>\n",
       "    <tr>\n",
       "      <th>5</th>\n",
       "      <td>Denver</td>\n",
       "      <td>100431</td>\n",
       "    </tr>\n",
       "    <tr>\n",
       "      <th>6</th>\n",
       "      <td>NYC</td>\n",
       "      <td>1555060</td>\n",
       "    </tr>\n",
       "    <tr>\n",
       "      <th>7</th>\n",
       "      <td>Philadelphia</td>\n",
       "      <td>1395981</td>\n",
       "    </tr>\n",
       "    <tr>\n",
       "      <th>8</th>\n",
       "      <td>Roanoke</td>\n",
       "      <td>655454</td>\n",
       "    </tr>\n",
       "    <tr>\n",
       "      <th>9</th>\n",
       "      <td>SanFrancisco</td>\n",
       "      <td>810196</td>\n",
       "    </tr>\n",
       "    <tr>\n",
       "      <th>10</th>\n",
       "      <td>Toronto</td>\n",
       "      <td>1176151</td>\n",
       "    </tr>\n",
       "    <tr>\n",
       "      <th>11</th>\n",
       "      <td>UKansasState</td>\n",
       "      <td>62962</td>\n",
       "    </tr>\n",
       "    <tr>\n",
       "      <th>12</th>\n",
       "      <td>UMissouri</td>\n",
       "      <td>132709</td>\n",
       "    </tr>\n",
       "  </tbody>\n",
       "</table>\n",
       "</div>"
      ],
      "text/plain": [
       "        Instance    Value\n",
       "0        Atlanta  2003763\n",
       "1         Berlin     7542\n",
       "2         Boston   893536\n",
       "3      Champaign    52643\n",
       "4     Cincinnati   277952\n",
       "5         Denver   100431\n",
       "6            NYC  1555060\n",
       "7   Philadelphia  1395981\n",
       "8        Roanoke   655454\n",
       "9   SanFrancisco   810196\n",
       "10       Toronto  1176151\n",
       "11  UKansasState    62962\n",
       "12     UMissouri   132709"
      ]
     },
     "execution_count": 115,
     "metadata": {},
     "output_type": "execute_result"
    }
   ],
   "source": [
    "pd.read_csv('../data/solutions.csv')"
   ]
  },
  {
   "cell_type": "code",
   "execution_count": 116,
   "metadata": {
    "colab": {
     "base_uri": "https://localhost:8080/"
    },
    "id": "nubOryihCLzL",
    "outputId": "079ea569-0952-45af-d4dd-9d4ca0e737ed"
   },
   "outputs": [
    {
     "data": {
      "text/plain": [
       "1.205298002696293"
      ]
     },
     "execution_count": 116,
     "metadata": {},
     "output_type": "execute_result"
    }
   ],
   "source": [
    "2415131.541776732/2003763"
   ]
  },
  {
   "cell_type": "code",
   "execution_count": null,
   "metadata": {
    "id": "0xf94Tv2Frw5"
   },
   "outputs": [],
   "source": []
  }
 ],
 "metadata": {
  "colab": {
   "authorship_tag": "ABX9TyO6hsH2HnX1Rag6G6k+ypas",
   "collapsed_sections": [],
   "name": "cse6140TSP.ipynb",
   "provenance": []
  },
  "kernelspec": {
   "display_name": "Python 3 (ipykernel)",
   "language": "python",
   "name": "python3"
  },
  "language_info": {
   "codemirror_mode": {
    "name": "ipython",
    "version": 3
   },
   "file_extension": ".py",
   "mimetype": "text/x-python",
   "name": "python",
   "nbconvert_exporter": "python",
   "pygments_lexer": "ipython3",
   "version": "3.8.12"
  }
 },
 "nbformat": 4,
 "nbformat_minor": 1
}
