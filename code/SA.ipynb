{
 "cells": [
  {
   "cell_type": "code",
   "execution_count": 45,
   "id": "determined-raising",
   "metadata": {},
   "outputs": [],
   "source": [
    "import numpy as np\n",
    "import sys\n",
    "import random as rd\n",
    "import math"
   ]
  },
  {
   "cell_type": "code",
   "execution_count": 46,
   "id": "capital-emphasis",
   "metadata": {},
   "outputs": [],
   "source": [
    "# Create list of cities\n",
    "\n",
    "instance='Atlanta'\n",
    "n=int(open('../data/'+instance+'.tsp').readlines()[2][len('DIMENSION: '):])\n",
    "input=np.loadtxt(\"../data/\"+instance+\".tsp\",skiprows=5,max_rows=n)"
   ]
  },
  {
   "cell_type": "code",
   "execution_count": 47,
   "id": "worst-uncertainty",
   "metadata": {},
   "outputs": [],
   "source": [
    "input_xy = []\n",
    "for i in input:\n",
    "    input_xy.append((i[1], i[2]))"
   ]
  },
  {
   "cell_type": "code",
   "execution_count": 48,
   "id": "literary-stamp",
   "metadata": {},
   "outputs": [
    {
     "data": {
      "text/plain": [
       "[(33665568.0, -84411070.0),\n",
       " (33764940.0, -84371819.0),\n",
       " (33770889.0, -84358622.0),\n",
       " (34233391.0, -84103278.0),\n",
       " (33921088.0, -84337342.0),\n",
       " (34087634.0, -84530646.0),\n",
       " (33683084.0, -84442307.0),\n",
       " (33968483.0, -84204487.0),\n",
       " (33809946.0, -84438909.0),\n",
       " (34070898.0, -84277636.0),\n",
       " (33903368.0, -84376924.0),\n",
       " (33836703.0, -84481173.0),\n",
       " (33792891.0, -84396721.0),\n",
       " (33975761.0, -84265625.0),\n",
       " (34002830.0, -84146049.0),\n",
       " (34091985.0, -84275997.0),\n",
       " (33788510.0, -84369260.0),\n",
       " (33872130.0, -84261650.0),\n",
       " (34003208.0, -84040883.0),\n",
       " (33936017.0, -84388948.0)]"
      ]
     },
     "execution_count": 48,
     "metadata": {},
     "output_type": "execute_result"
    }
   ],
   "source": [
    "input_xy"
   ]
  },
  {
   "cell_type": "code",
   "execution_count": 49,
   "id": "raising-viking",
   "metadata": {},
   "outputs": [],
   "source": [
    "class simanneal(object):\n",
    "    def __init__(self, points, max_iter):\n",
    "        \n",
    "        self.points = points\n",
    "        self.n = len(points)\n",
    "        self.T = (self.n)**0.5\n",
    "        self.alpha = 0.9995\n",
    "        self.min_T = 10**(-6)\n",
    "        self.max_iter = max_iter\n",
    "        self.iter = 1\n",
    "        self.nodelist = [node for node in range(self.n)]\n",
    "        self.best_dist = float(\"Inf\")\n",
    "        self.optimal_solution = None\n",
    "        self.best_list = []\n",
    "        \n",
    "    def randompick(self):\n",
    "        \n",
    "        selected_node = rd.choice(self.nodelist)\n",
    "        sol = [selected_node]\n",
    "        rem_nodes = set(self.nodelist)\n",
    "        rem_nodes.remove(selected_node)\n",
    "        while rem_nodes:\n",
    "            \n",
    "            nrst_ngbr = min(rem_nodes, key = lambda x: self.eucdist(selected_node, x))\n",
    "            rem_nodes.remove(nrst_ngbr)\n",
    "            sol.append(nrst_ngbr)\n",
    "            \n",
    "        dist = self.totdist(sol)\n",
    "        if dist < self.best_dist:\n",
    "            self.bist_dist = dist\n",
    "            self.optimal_solution = sol\n",
    "            \n",
    "        self.best_list.append(dist)\n",
    "        \n",
    "        return sol, dist\n",
    "    \n",
    "    def eucdist(self, node1, node2):\n",
    "        \n",
    "        point1, point2 = self.points[node1], self.points[node2]\n",
    "        return ((point1[0] - point2[0])**2 + (point1[1] - point2[1])**2)**0.5\n",
    "    \n",
    "    \n",
    "    def totdist(self, sol):\n",
    "        \n",
    "        dist = 0\n",
    "        for i in range(self.n):\n",
    "            dist += self.eucdist(sol[i%self.n], sol[(i+1)%self.n])\n",
    "        return dist\n",
    "    \n",
    "    def executeanneal(self):\n",
    "        \n",
    "        self.present_sol, self.present_dist = self.randompick() \n",
    "        while self.T >= self.min_T and self.iter < self.max_iter:\n",
    "            \n",
    "            nextelem = list(self.present_sol)\n",
    "            a = rd.randint(2, self.n - 1)\n",
    "            b = rd.randint(0, self.n - a)\n",
    "            nextelem[b:(a+b)] = reversed(nextelem[b:(a+b)])\n",
    "            self.criterion(nextelem)\n",
    "            self.T *= self.alpha\n",
    "            self.iter += 1\n",
    "            self.best_list.append(self.present_dist)\n",
    "            \n",
    "        print(\"Solution obtained: \", self.present_dist)\n",
    "        \n",
    "    def criterion(self, nextelem):\n",
    "        \n",
    "        elem_dist = self.totdist(nextelem)\n",
    "        if elem_dist < self.present_dist:\n",
    "            self.present_dist, self.present_sol = elem_dist, nextelem\n",
    "            if elem_dist < self.best_dist:\n",
    "                self.best_dist, self.optimal_solution = elem_dist, nextelem\n",
    "        else:\n",
    "            if rd.random() < self.isaccept(elem_dist):\n",
    "                self.present_dist, self.present_sol = elem_dist, nextelem\n",
    "                \n",
    "    def isaccept(self, elem_dist):\n",
    "        \n",
    "        return math.exp(-abs(elem_dist - self.present_dist)/self.T)"
   ]
  },
  {
   "cell_type": "code",
   "execution_count": 50,
   "id": "blond-mixture",
   "metadata": {},
   "outputs": [],
   "source": [
    "sa = simanneal(input_xy, max_iter = 1000)"
   ]
  },
  {
   "cell_type": "code",
   "execution_count": 51,
   "id": "hourly-consortium",
   "metadata": {},
   "outputs": [
    {
     "name": "stdout",
     "output_type": "stream",
     "text": [
      "Solution obtained:  2089117.5787391618\n"
     ]
    }
   ],
   "source": [
    "sa.executeanneal()"
   ]
  },
  {
   "cell_type": "code",
   "execution_count": null,
   "id": "ordered-column",
   "metadata": {},
   "outputs": [],
   "source": []
  }
 ],
 "metadata": {
  "kernelspec": {
   "display_name": "Python 3",
   "language": "python",
   "name": "python3"
  },
  "language_info": {
   "codemirror_mode": {
    "name": "ipython",
    "version": 3
   },
   "file_extension": ".py",
   "mimetype": "text/x-python",
   "name": "python",
   "nbconvert_exporter": "python",
   "pygments_lexer": "ipython3",
   "version": "3.8.5"
  }
 },
 "nbformat": 4,
 "nbformat_minor": 5
}
